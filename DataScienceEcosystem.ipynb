{
 "cells": [
  {
   "cell_type": "markdown",
   "id": "1a940bb0-4ea8-4451-804f-3622f189329a",
   "metadata": {},
   "source": [
    "# Data Science Tools and Ecosystem"
   ]
  },
  {
   "cell_type": "markdown",
   "id": "8481ebbf-5d73-4bf4-a00d-514f4ee5f358",
   "metadata": {},
   "source": [
    "In this notebook, Data Science Tools and Ecosystem are summarized."
   ]
  },
  {
   "cell_type": "markdown",
   "id": "cb9fe86d-effb-4ac1-97b1-3934cc67e5e7",
   "metadata": {},
   "source": [
    "Some of the popular languages that Data Scientists use are:\n",
    "1. Python\n",
    "2. R\n",
    "3. SQL\n",
    "4. JavaScript\n",
    "5. Julia"
   ]
  },
  {
   "cell_type": "markdown",
   "id": "a60cdad2-a5bc-4ded-a961-c89660b43468",
   "metadata": {},
   "source": [
    "Some of the commonly used libraries used by Data Scientists include:\n",
    "1. Pandas\n",
    "2. NumPy\n",
    "3. Matplotlib\n",
    "4. Scikit-learn\n",
    "5. TensorFlow"
   ]
  },
  {
   "cell_type": "markdown",
   "id": "d1c65971-88cd-45c5-8b4f-d9488ff74b14",
   "metadata": {},
   "source": [
    "| Data Science Tools   |\n",
    "|----------------------|\n",
    "| Jupyter Notebook      |\n",
    "| Apache Spark         |\n",
    "| RStudio              |"
   ]
  },
  {
   "cell_type": "markdown",
   "id": "9c38cefe-a550-4658-95ad-c85cf91c5b63",
   "metadata": {},
   "source": [
    "### Below are a few examples of evaluating arithmetic expressions in Python."
   ]
  },
  {
   "cell_type": "code",
   "execution_count": 2,
   "id": "b7d67ccb-c7d8-4ce3-bcfc-071d0b789b17",
   "metadata": {},
   "outputs": [
    {
     "data": {
      "text/plain": [
       "17"
      ]
     },
     "execution_count": 2,
     "metadata": {},
     "output_type": "execute_result"
    }
   ],
   "source": [
    "# This is a simple arithmetic expression to multiply then add integers.\n",
    "result = (3 * 4) + 5\n",
    "result"
   ]
  },
  {
   "cell_type": "code",
   "execution_count": 3,
   "id": "3c858391-9259-4561-905e-c1a438828ddd",
   "metadata": {},
   "outputs": [
    {
     "data": {
      "text/plain": [
       "3.3333333333333335"
      ]
     },
     "execution_count": 3,
     "metadata": {},
     "output_type": "execute_result"
    }
   ],
   "source": [
    "# This will convert 200 minutes to hours by dividing by 60.\n",
    "minutes = 200\n",
    "hours = minutes / 60\n",
    "hours"
   ]
  },
  {
   "cell_type": "markdown",
   "id": "52d969ca-fa7d-4ff1-ab39-a6ec99133a08",
   "metadata": {},
   "source": [
    "**Objectives:**\n",
    "- List popular languages for Data Science.\n",
    "- Identify commonly used libraries in Data Science.\n",
    "- Create a table of Data Science tools.\n",
    "- Evaluate arithmetic expressions in Python.\n",
    "- Convert minutes to hours using a simple calculation."
   ]
  },
  {
   "cell_type": "markdown",
   "id": "923b874a-b438-4d90-b4b4-a9f9a5fb94e4",
   "metadata": {},
   "source": [
    "## Author\n",
    "Hussein Zaid"
   ]
  },
  {
   "cell_type": "code",
   "execution_count": null,
   "id": "39db4d2d-8e2c-4328-a298-c7a1ee80472b",
   "metadata": {},
   "outputs": [],
   "source": []
  }
 ],
 "metadata": {
  "kernelspec": {
   "display_name": "Python 3 (ipykernel)",
   "language": "python",
   "name": "python3"
  },
  "language_info": {
   "codemirror_mode": {
    "name": "ipython",
    "version": 3
   },
   "file_extension": ".py",
   "mimetype": "text/x-python",
   "name": "python",
   "nbconvert_exporter": "python",
   "pygments_lexer": "ipython3",
   "version": "3.11.9"
  }
 },
 "nbformat": 4,
 "nbformat_minor": 5
}
